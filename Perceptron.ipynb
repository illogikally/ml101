{
 "cells": [
  {
   "cell_type": "code",
   "execution_count": 273,
   "metadata": {},
   "outputs": [
    {
     "name": "stdout",
     "output_type": "stream",
     "text": [
      "(4,)\n",
      "1\n",
      "2\n"
     ]
    }
   ],
   "source": [
    "import numpy as np\n",
    "\n",
    "data = np.loadtxt(\"perceptron\", delimiter=\",\")\n",
    "X = data[:, :-1]\n",
    "y = data[:, -1]\n",
    "\n",
    "np.random.seed(0)\n",
    "print(X[0].shape)\n",
    "print(y.ndim)\n",
    "print(X.ndim)\n",
    "w = np.random.random_sample(X[0].shape)\n",
    "b = np.random.random_sample(y[0].shape)\n"
   ]
  },
  {
   "cell_type": "code",
   "execution_count": 271,
   "metadata": {},
   "outputs": [
    {
     "data": {
      "text/plain": [
       "[1, 1, 1, 1, 1, 0, 0, 0, 0, 0]"
      ]
     },
     "execution_count": 271,
     "metadata": {},
     "output_type": "execute_result"
    }
   ],
   "source": [
    "def a(z):\n",
    "    if z > 0: return 1\n",
    "    else: return 0\n",
    "\n",
    "def predict(X, w=w, b=b):\n",
    "    predict = []\n",
    "    for i in range(len(X)):\n",
    "        predict.append(a(np.dot(w, X[i]) + b))\n",
    "    return predict\n",
    "\n",
    "def fit(X=X, y=y, w=w, b=b):\n",
    "    fit = False\n",
    "    while not fit:\n",
    "        fit = True\n",
    "        for i in range(len(X)):\n",
    "            e = y[i] - a(np.dot(w, X[i]) + b) \n",
    "            if e != 0: fit = False;\n",
    "            w += e*X[i]\n",
    "            b += e\n",
    "\n",
    "fit()\n",
    "predict(X)"
   ]
  }
 ],
 "metadata": {
  "kernelspec": {
   "display_name": "Python 3",
   "language": "python",
   "name": "python3"
  },
  "language_info": {
   "codemirror_mode": {
    "name": "ipython",
    "version": 3
   },
   "file_extension": ".py",
   "mimetype": "text/x-python",
   "name": "python",
   "nbconvert_exporter": "python",
   "pygments_lexer": "ipython3",
   "version": "3.7.3"
  }
 },
 "nbformat": 4,
 "nbformat_minor": 2
}
