{
 "cells": [
  {
   "cell_type": "code",
   "execution_count": 1,
   "metadata": {},
   "outputs": [],
   "source": [
    "import numpy as np\n",
    "\n",
    "dataset = np.loadtxt(\"diabetes.csv\", delimiter=\",\")\n",
    "X = dataset[:, :-1]\n",
    "y = dataset[:, -1]\n",
    "\n",
    "np.random.seed()\n",
    "n_train = int(len(dataset)*.7)\n",
    "perm_index = np.random.permutation(len(dataset))\n",
    "\n",
    "X_train = X[perm_index[:n_train]]\n",
    "X_test  = X[perm_index[n_train:]]\n",
    "y_train = y[perm_index[:n_train]]\n",
    "y_test  = y[perm_index[n_train:]]"
   ]
  },
  {
   "cell_type": "code",
   "execution_count": 2,
   "metadata": {},
   "outputs": [],
   "source": [
    "def mean(array):\n",
    "    return np.sum(array) / len(array)"
   ]
  },
  {
   "cell_type": "code",
   "execution_count": 3,
   "metadata": {},
   "outputs": [],
   "source": [
    "def stdev(array):\n",
    "    return np.sqrt(np.sum(np.power(array-np.full(array.shape, mean(array)), 2)) / (len(array)-1))"
   ]
  },
  {
   "cell_type": "code",
   "execution_count": 4,
   "metadata": {},
   "outputs": [],
   "source": [
    "def summarize(X_train=X_train, y=y):\n",
    "    summaries = {}\n",
    "    for i in np.unique(y):\n",
    "        mean_stdev = []\n",
    "        for array in X_train[y_train==i, :].T:\n",
    "            mean_stdev.append([mean(array), stdev(array)])\n",
    "        summaries[i] = mean_stdev\n",
    "    return summaries"
   ]
  },
  {
   "cell_type": "code",
   "execution_count": 5,
   "metadata": {},
   "outputs": [],
   "source": [
    "def probability(array, mean_stdev):\n",
    "    mean_stdev = np.array(mean_stdev).T\n",
    "    mean  = mean_stdev[0]\n",
    "    stdev = mean_stdev[1]\n",
    "    return np.prod(np.exp(-np.power(array-mean, 2) / (2*np.power(stdev, 2))) / (np.sqrt(2*np.pi) * stdev))"
   ]
  },
  {
   "cell_type": "code",
   "execution_count": 6,
   "metadata": {},
   "outputs": [],
   "source": [
    "def predict(summaries, array, y=y):\n",
    "    label_prob = {}\n",
    "    for i in np.unique(y):\n",
    "        label_prob[i] = probability(array, summaries[i])\n",
    "        \n",
    "    best_prob = -1\n",
    "    for label, prob in label_prob.items():\n",
    "        if prob > best_prob:\n",
    "            best_label = label\n",
    "            best_prob  = prob\n",
    "    return best_label    "
   ]
  },
  {
   "cell_type": "code",
   "execution_count": 7,
   "metadata": {},
   "outputs": [],
   "source": [
    "def accuracy(pred, y_test=y_test):\n",
    "    counter = 0\n",
    "    for i in range(len(pred)):\n",
    "        if pred[i] == y_test[i]:\n",
    "            counter +=1\n",
    "    return counter / len(y_test) * 100"
   ]
  },
  {
   "cell_type": "code",
   "execution_count": 8,
   "metadata": {},
   "outputs": [
    {
     "name": "stdout",
     "output_type": "stream",
     "text": [
      "74.45887445887446\n"
     ]
    }
   ],
   "source": [
    "pred = []\n",
    "for array in X_test:\n",
    "    pred.append(predict(summarize(), array))\n",
    "    \n",
    "print(accuracy(pred))"
   ]
  },
  {
   "cell_type": "code",
   "execution_count": 9,
   "metadata": {},
   "outputs": [
    {
     "name": "stdout",
     "output_type": "stream",
     "text": [
      "77.48917748917748\n"
     ]
    }
   ],
   "source": [
    "from sklearn.naive_bayes import GaussianNB\n",
    "\n",
    "clf = GaussianNB()\n",
    "clf.fit(X_train, y_train)\n",
    "\n",
    "print(clf.score(X_test, y_test)*100)"
   ]
  },
  {
   "cell_type": "code",
   "execution_count": null,
   "metadata": {},
   "outputs": [],
   "source": []
  }
 ],
 "metadata": {
  "kernelspec": {
   "display_name": "Python 3",
   "language": "python",
   "name": "python3"
  },
  "language_info": {
   "codemirror_mode": {
    "name": "ipython",
    "version": 3
   },
   "file_extension": ".py",
   "mimetype": "text/x-python",
   "name": "python",
   "nbconvert_exporter": "python",
   "pygments_lexer": "ipython3",
   "version": "3.7.3"
  }
 },
 "nbformat": 4,
 "nbformat_minor": 2
}
