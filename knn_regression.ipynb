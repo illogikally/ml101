{
 "cells": [
  {
   "cell_type": "code",
   "execution_count": 175,
   "metadata": {},
   "outputs": [],
   "source": [
    "import numpy as np\n",
    "import pandas as pd\n",
    "\n",
    "dataset = np.loadtxt(\"housing\", delimiter=\",\")\n",
    "X = dataset[:, :-1]\n",
    "y = dataset[:, -1]\n",
    "\n",
    "np.random.seed()\n",
    "n_test = int(len(dataset)*.7)\n",
    "indices = np.random.permutation(len(dataset))\n",
    "\n",
    "X_train = X[indices[:n_test]]\n",
    "X_test  = X[indices[n_test:]]\n",
    "y_train = y[indices[:n_test]]\n",
    "y_test  = y[indices[n_test:]]"
   ]
  },
  {
   "cell_type": "code",
   "execution_count": 176,
   "metadata": {},
   "outputs": [],
   "source": [
    "def dist(vec1, vec2):\n",
    "    return np.linalg.norm(vec1-vec2)"
   ]
  },
  {
   "cell_type": "code",
   "execution_count": 177,
   "metadata": {},
   "outputs": [],
   "source": [
    "def neighbors(vec, k, X_train=X_train, y_train=y_train):\n",
    "    distances = []\n",
    "    for i in range(len(X_train)):\n",
    "        distances.append([y_train[i], dist(X_train[i], vec)])\n",
    "    distances.sort(key=lambda x:x[1])\n",
    "    return distances[:k]    "
   ]
  },
  {
   "cell_type": "code",
   "execution_count": 178,
   "metadata": {},
   "outputs": [
    {
     "name": "stdout",
     "output_type": "stream",
     "text": [
      "[[28.7         7.47966232]\n",
      " [21.7         8.02090429]\n",
      " [23.9         9.40019876]\n",
      " [11.9        14.25731126]]\n",
      "21.55\n",
      "23.0\n"
     ]
    }
   ],
   "source": [
    "k = 4\n",
    "kneighbors = np.array(neighbors(X_test[-2], k))\n",
    "print(kneighbors)\n",
    "print(np.sum(kneighbors[:, 0])/k)\n",
    "print(y_test[-2])\n"
   ]
  }
 ],
 "metadata": {
  "kernelspec": {
   "display_name": "Python 3",
   "language": "python",
   "name": "python3"
  },
  "language_info": {
   "codemirror_mode": {
    "name": "ipython",
    "version": 3
   },
   "file_extension": ".py",
   "mimetype": "text/x-python",
   "name": "python",
   "nbconvert_exporter": "python",
   "pygments_lexer": "ipython3",
   "version": "3.7.3"
  }
 },
 "nbformat": 4,
 "nbformat_minor": 2
}
