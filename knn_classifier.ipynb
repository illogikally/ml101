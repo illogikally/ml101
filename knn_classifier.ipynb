{
 "cells": [
  {
   "cell_type": "code",
   "execution_count": 1,
   "metadata": {},
   "outputs": [],
   "source": [
    "import numpy as np\n",
    "import collections\n",
    "\n",
    "dataset = np.loadtxt(\"diabetes.csv\", delimiter=\",\")\n",
    "X = dataset[:, :-1]\n",
    "y = dataset[:, -1]\n",
    "\n",
    "np.random.seed()\n",
    "n_train = int(len(dataset)*.7)\n",
    "perm_index = np.random.permutation(len(dataset))\n",
    "\n",
    "X_train = X[perm_index[:n_train]]\n",
    "X_test  = X[perm_index[n_train:]]\n",
    "y_train = y[perm_index[:n_train]]\n",
    "y_test  = y[perm_index[n_train:]]"
   ]
  },
  {
   "cell_type": "code",
   "execution_count": 2,
   "metadata": {},
   "outputs": [],
   "source": [
    "def dist(vec1, vec2):\n",
    "    return np.linalg.norm(vec1 - vec2)"
   ]
  },
  {
   "cell_type": "code",
   "execution_count": 3,
   "metadata": {},
   "outputs": [],
   "source": [
    "def neighbors(vec, k, X_train=X_train, y_train=y_train):\n",
    "    distances = []\n",
    "    for i in range(len(X_train)):\n",
    "        distances.append([y_train[i], dist(X_train[i], vec)])\n",
    "        \n",
    "    distances.sort(key=lambda x:x[1])\n",
    "    return distances[:k]    "
   ]
  },
  {
   "cell_type": "code",
   "execution_count": 4,
   "metadata": {},
   "outputs": [],
   "source": [
    "def predict(neighbors):\n",
    "    label_counter = collections.Counter() \n",
    "    for i in neighbors:\n",
    "        label_counter[i[0]] += 1\n",
    "    return label_counter.most_common()[0][0]"
   ]
  },
  {
   "cell_type": "code",
   "execution_count": 5,
   "metadata": {},
   "outputs": [],
   "source": [
    "def accuracy(pred, y_test=y_test):\n",
    "    counter = 0\n",
    "    for i in range(len(pred)):\n",
    "        if pred[i] == y_test[i]:\n",
    "            counter += 1\n",
    "    return counter / len(y_test) * 100"
   ]
  },
  {
   "cell_type": "code",
   "execution_count": 6,
   "metadata": {},
   "outputs": [
    {
     "name": "stdout",
     "output_type": "stream",
     "text": [
      "74.89177489177489\n"
     ]
    }
   ],
   "source": [
    "k = 13\n",
    "pred = []\n",
    "\n",
    "for vec in X_test:\n",
    "    pred.append(predict(neighbors(vec, k)))\n",
    "        \n",
    "print(accuracy(pred))\n",
    "\n",
    "#fold = int(len(dataset) / 4)\n",
    "#for i in range(4):\n",
    "#    pred = []\n",
    "#    test  = dataset[i*fold:(i+1)*fold]\n",
    "#    train = np.concatenate((dataset[:i*fold], dataset[(i+1)*fold:]), axis=0)\n",
    "#    X_train = train[:, :-1]\n",
    "#    X_test  = test[:, :-1]\n",
    "#    y_train = train[:, -1]\n",
    "#    y_test  = test[:, -1]\n",
    "#    for vec in X_test:\n",
    "#        pred.append(predict(neighbors(vec, k, X_train, y_train)))\n",
    "#    print(accuracy(pred, y_test))"
   ]
  },
  {
   "cell_type": "code",
   "execution_count": 7,
   "metadata": {},
   "outputs": [
    {
     "name": "stdout",
     "output_type": "stream",
     "text": [
      "74.89177489177489\n"
     ]
    }
   ],
   "source": [
    "from sklearn import neighbors\n",
    "\n",
    "clf = neighbors.KNeighborsClassifier(k)\n",
    "clf.fit(X_train, y_train)\n",
    "\n",
    "print(clf.score(X_test, y_test)*100)"
   ]
  }
 ],
 "metadata": {
  "kernelspec": {
   "display_name": "Python 3",
   "language": "python",
   "name": "python3"
  },
  "language_info": {
   "codemirror_mode": {
    "name": "ipython",
    "version": 3
   },
   "file_extension": ".py",
   "mimetype": "text/x-python",
   "name": "python",
   "nbconvert_exporter": "python",
   "pygments_lexer": "ipython3",
   "version": "3.7.3"
  }
 },
 "nbformat": 4,
 "nbformat_minor": 2
}
